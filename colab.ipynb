{
  "nbformat": 4,
  "nbformat_minor": 0,
  "metadata": {
    "accelerator": "GPU",
    "colab": {
      "name": "colab.ipynb",
      "provenance": [],
      "collapsed_sections": [],
      "machine_shape": "hm"
    },
    "kernelspec": {
      "display_name": "Python 3",
      "name": "python3"
    },
    "language_info": {
      "name": "python"
    }
  },
  "cells": [
    {
      "cell_type": "markdown",
      "source": [
        "StyleGAN3"
      ],
      "metadata": {
        "id": "Ah3ZX4A_qAaf"
      }
    },
    {
      "cell_type": "code",
      "source": [
        "#@markdown ###Check GPU type\n",
        "#@markdown Factory reset runtime if you don't have the desired GPU.\n",
        "#@markdown - V100 = Excellent (*Available only for Colab Pro users*)\n",
        "#@markdown - P100 = Very Good\n",
        "#@markdown - T4 = Good (*preferred*)\n",
        "#@markdown - K80 = Meh\n",
        "#@markdown - P4 = (*Not Recommended*)\n",
        "\n",
        "!nvidia-smi -L"
      ],
      "metadata": {
        "id": "67Ng3XNMqFfC",
        "cellView": "form",
        "outputId": "66ccb8e4-04f8-4514-fcfd-70db4f2c8453",
        "colab": {
          "base_uri": "https://localhost:8080/"
        }
      },
      "execution_count": 58,
      "outputs": [
        {
          "output_type": "stream",
          "name": "stdout",
          "text": [
            "GPU 0: Tesla K80 (UUID: GPU-6aebdffa-906a-0659-7cc2-1f760f176747)\n"
          ]
        }
      ]
    },
    {
      "cell_type": "code",
      "source": [
        "NAME = 'stylegan3'\n",
        "GDRIVE_MOUNT = '/content/drive'\n",
        "BASE_DIR = f'{GDRIVE_MOUNT}/MyDrive/colab/'\n",
        "CODE_DIR = f'{BASE_DIR}{NAME}/'"
      ],
      "metadata": {
        "id": "5HE3zQmz5-5l"
      },
      "execution_count": 59,
      "outputs": []
    },
    {
      "cell_type": "code",
      "source": [
        "# Connect Google Drive\n",
        "from google.colab import drive\n",
        "drive.mount(GDRIVE_MOUNT)"
      ],
      "metadata": {
        "id": "hS0paOdq573w",
        "outputId": "b5fef4c4-cf88-4998-a263-d185b58fa0be",
        "colab": {
          "base_uri": "https://localhost:8080/"
        }
      },
      "execution_count": 62,
      "outputs": [
        {
          "output_type": "stream",
          "name": "stdout",
          "text": [
            "Drive already mounted at /content/drive; to attempt to forcibly remount, call drive.mount(\"/content/drive\", force_remount=True).\n"
          ]
        }
      ]
    },
    {
      "cell_type": "code",
      "source": [
        "import os\n",
        "if os.path.isdir(CODE_DIR):\n",
        "    %cd {CODE_DIR}\n",
        "    !git pull\n",
        "else:\n",
        "    !git clone https://github.com/ManuelKugelmann/stylegan3-fun.git {CODE_DIR}\n",
        "    %cd {CODE_DIR}"
      ],
      "metadata": {
        "id": "wa_97Pyj57-B",
        "outputId": "e821db6f-0b34-4a9c-8b45-926e018b36a6",
        "colab": {
          "base_uri": "https://localhost:8080/"
        }
      },
      "execution_count": 63,
      "outputs": [
        {
          "output_type": "stream",
          "name": "stdout",
          "text": [
            "/content/drive/MyDrive/colab/stylegan3\n",
            "Already up to date.\n"
          ]
        }
      ]
    }
  ]
}