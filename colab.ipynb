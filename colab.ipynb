{
  "nbformat": 4,
  "nbformat_minor": 0,
  "metadata": {
    "accelerator": "GPU",
    "colab": {
      "name": "colab.ipynb",
      "provenance": [],
      "collapsed_sections": [],
      "machine_shape": "hm"
    },
    "kernelspec": {
      "display_name": "Python 3",
      "name": "python3"
    },
    "language_info": {
      "name": "python"
    }
  },
  "cells": [
    {
      "cell_type": "markdown",
      "source": [
        "StyleGAN3"
      ],
      "metadata": {
        "id": "Ah3ZX4A_qAaf"
      }
    },
    {
      "cell_type": "code",
      "source": [
        "#@markdown ###Check GPU type\n",
        "#@markdown Factory reset runtime if you don't have the desired GPU.\n",
        "#@markdown - V100 = Excellent (*Available only for Colab Pro users*)\n",
        "#@markdown - P100 = Very Good\n",
        "#@markdown - T4 = Good (*preferred*)\n",
        "#@markdown - K80 = Meh\n",
        "#@markdown - P4 = (*Not Recommended*)\n",
        "\n",
        "!nvidia-smi -L"
      ],
      "metadata": {
        "id": "67Ng3XNMqFfC",
        "cellView": "form",
        "outputId": "66ccb8e4-04f8-4514-fcfd-70db4f2c8453",
        "colab": {
          "base_uri": "https://localhost:8080/"
        }
      },
      "execution_count": null,
      "outputs": [
        {
          "output_type": "stream",
          "name": "stdout",
          "text": [
            "GPU 0: Tesla K80 (UUID: GPU-6aebdffa-906a-0659-7cc2-1f760f176747)\n"
          ]
        }
      ]
    },
    {
      "cell_type": "code",
      "source": [
        "\n",
        "#!pip install --upgrade torch==1.9.1+cu111 torchvision==0.10.1+cu111 -f https://download.pytorch.org/whl/torch_stable.html\n",
        "#!pip install --upgrade https://download.pytorch.org/whl/nightly/cu111/torch-1.11.0.dev20211012%2Bcu111-cp37-cp37m-linux_x86_64.whl https://download.pytorch.org/whl/nightly/cu111/torchvision-0.12.0.dev20211012%2Bcu111-cp37-cp37m-linux_x86_64.whl\n",
        "!pip install --upgrade torch==1.11.0+cu111 torchvision==0.12.0+cu111 -f https://download.pytorch.org/whl/torch_stable.html\n",
        "\n",
        "import sys\n",
        "import io\n",
        "import os, time, glob\n",
        "import pickle\n",
        "import shutil\n",
        "import numpy as np\n",
        "from PIL import Image\n",
        "import torch\n",
        "import torch.nn.functional as F\n",
        "import requests\n",
        "import torchvision.transforms as transforms\n",
        "import torchvision.transforms.functional as TF\n",
        "import clip\n",
        "import unicodedata\n",
        "import re\n",
        "from tqdm.notebook import tqdm\n",
        "from torchvision.transforms import Compose, Resize, ToTensor, Normalize\n",
        "from IPython.display import display\n",
        "from einops import rearrange\n",
        "from google.colab import files\n",
        "\n",
        "from IPython.display import clear_output\n",
        "clear_output()\n",
        "\n",
        "device = torch.device('cuda:0')\n",
        "print('Using device:', device, file=sys.stderr)\n"
      ],
      "metadata": {
        "id": "OjaYmYbVH8FF"
      },
      "execution_count": null,
      "outputs": []
    },
    {
      "cell_type": "code",
      "source": [
        "NAME = 'stylegan3'\n",
        "GDRIVE_MOUNT = '/content/drive'\n",
        "BASE_DIR = f'{GDRIVE_MOUNT}/MyDrive/colab/'\n",
        "CODE_DIR = f'{BASE_DIR}{NAME}/'"
      ],
      "metadata": {
        "id": "5HE3zQmz5-5l"
      },
      "execution_count": null,
      "outputs": []
    },
    {
      "cell_type": "code",
      "source": [
        "# Connect Google Drive\n",
        "from google.colab import drive\n",
        "drive.mount(GDRIVE_MOUNT)"
      ],
      "metadata": {
        "id": "hS0paOdq573w",
        "outputId": "b5fef4c4-cf88-4998-a263-d185b58fa0be",
        "colab": {
          "base_uri": "https://localhost:8080/"
        }
      },
      "execution_count": null,
      "outputs": [
        {
          "output_type": "stream",
          "name": "stdout",
          "text": [
            "Drive already mounted at /content/drive; to attempt to forcibly remount, call drive.mount(\"/content/drive\", force_remount=True).\n"
          ]
        }
      ]
    },
    {
      "cell_type": "code",
      "source": [
        "import os\n",
        "if os.path.isdir(CODE_DIR):\n",
        "    %cd {CODE_DIR}\n",
        "    !git pull\n",
        "else:\n",
        "    !git clone https://github.com/ManuelKugelmann/stylegan3-fun.git {CODE_DIR}\n",
        "    %cd {CODE_DIR}"
      ],
      "metadata": {
        "id": "wa_97Pyj57-B",
        "outputId": "e821db6f-0b34-4a9c-8b45-926e018b36a6",
        "colab": {
          "base_uri": "https://localhost:8080/"
        }
      },
      "execution_count": null,
      "outputs": [
        {
          "output_type": "stream",
          "name": "stdout",
          "text": [
            "/content/drive/MyDrive/colab/stylegan3\n",
            "Already up to date.\n"
          ]
        }
      ]
    },
    {
      "cell_type": "code",
      "source": [
        "#@title Generate an image\n",
        "#@markdown StyleGAN3 pre-trained models for config T (translation equiv.) and config R (translation and rotation equiv.)\n",
        "seed = 4011 #@param {type:\"slider\", min:0, max:9999, step:1}\n",
        "\n",
        "baselink ='https://api.ngc.nvidia.com/v2/models/nvidia/research/stylegan3/versions/1/files/'\n",
        "model = \"stylegan3-r-afhqv2-512x512.pkl\" #@param [\"stylegan3-r-afhqv2-512x512.pkl\", \"stylegan3-r-ffhq-1024x1024.pkl\", \"stylegan3-r-ffhqu-1024x1024.pkl\",\"stylegan3-r-ffhqu-256x256.pkl\",\"stylegan3-r-metfaces-1024x1024.pkl\",\"stylegan3-r-metfacesu-1024x1024.pkl\",\"stylegan3-t-afhqv2-512x512.pkl\",\"stylegan3-t-ffhq-1024x1024.pkl\",\"stylegan3-t-ffhqu-1024x1024.pkl\",\"stylegan3-t-ffhqu-256x256.pkl\",\"stylegan3-t-metfaces-1024x1024.pkl\",\"stylegan3-t-metfacesu-1024x1024.pkl\"]\n",
        "\n",
        "# Generate an image using pre-trained model \n",
        "!python gen_images.py --outdir=out --trunc=1 \\\n",
        " --seeds=$seed --network=$baselink$model\n",
        " \n",
        "import matplotlib.pyplot as plt\n",
        "from PIL import Image\n",
        "\n",
        "plt.figure(figsize=(10,10))\n",
        "img = Image.open('/content/stylegan3/out/seed%04d.png' % seed);\n",
        "plt.imshow(img);\n",
        "plt.axis('off');"
      ],
      "metadata": {
        "id": "td8mVoraLNIR"
      },
      "execution_count": null,
      "outputs": []
    },
    {
      "cell_type": "code",
      "source": [
        "#@markdown #**Model selection** 🎭\n",
        "#@markdown - FFHQ: Trained with human faces.\n",
        "#@markdown - MetFaces: Trained with paintings/portraits of human faces.\n",
        "#@markdown - AFHQv2: Trained with animal faces.\n",
        "#@markdown - Cosplay: Trained by [l4rz](https://twitter.com/l4rz) with cosplayer's faces.\n",
        "#@markdown - Wikiart: Trained by [Justin Pinkney](https://www.justinpinkney.com/) with the Wikiart 1024 dataset.\n",
        "#@markdown - Landscapes: Trained by [Justin Pinkney](https://www.justinpinkney.com/) with the LHQ dataset.\n",
        "\n",
        "#@markdown **Run this cell again if you change the model**.\n",
        "\n",
        "#@markdown ---\n",
        "\n",
        "base_url = \"https://api.ngc.nvidia.com/v2/models/nvidia/research/stylegan3/versions/1/files/\"\n",
        "\n",
        "Model = 'FFHQ' #@param [\"FFHQ\", \"MetFaces\", \"AFHQv2\", \"cosplay\", \"Wikiart\", \"Landscapes\"]\n",
        "\n",
        "#@markdown ---\n",
        "\n",
        "model_name = {\n",
        "    \"FFHQ\": base_url + \"stylegan3-t-ffhqu-1024x1024.pkl\",\n",
        "    \"MetFaces\": base_url + \"stylegan3-r-metfacesu-1024x1024.pkl\",\n",
        "    \"AFHQv2\": base_url + \"stylegan3-t-afhqv2-512x512.pkl\",\n",
        "    \"cosplay\": \"https://l4rz.net/cosplayface-snapshot-stylegan3t-008000.pkl\",\n",
        "    \"Wikiart\": \"https://drive.google.com/u/0/open?id=18MOpwTMJsl_Z17q-wQVnaRLCUFZYSNkj\",\n",
        "    \"Landscapes\": \"https://drive.google.com/u/0/open?id=14UGDDOusZ9TMb-pOrF0PAjMGVWLSAii1\"\n",
        "}\n",
        "\n",
        "network_url = model_name[Model]\n",
        "\n",
        "with open(fetch_model(network_url), 'rb') as fp:\n",
        "  G = pickle.load(fp)['G_ema'].to(device)\n",
        "\n",
        "zs = torch.randn([10000, G.mapping.z_dim], device=device)\n",
        "w_stds = G.mapping(zs, None).std(0)"
      ],
      "metadata": {
        "id": "yt3SS0dfH50N"
      },
      "execution_count": null,
      "outputs": []
    }
  ]
}