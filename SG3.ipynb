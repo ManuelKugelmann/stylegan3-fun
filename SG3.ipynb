{
  "nbformat": 4,
  "nbformat_minor": 0,
  "metadata": {
    "colab": {
      "name": "SG3.ipynb",
      "private_outputs": true,
      "provenance": [],
      "authorship_tag": "ABX9TyOnrC8VryUj7WrwvDarcNGb",
      "include_colab_link": true
    },
    "kernelspec": {
      "name": "python3",
      "display_name": "Python 3"
    },
    "language_info": {
      "name": "python"
    },
    "accelerator": "GPU"
  },
  "cells": [
    {
      "cell_type": "markdown",
      "metadata": {
        "id": "view-in-github",
        "colab_type": "text"
      },
      "source": [
        "<a href=\"https://colab.research.google.com/github/dvschultz/stylegan3/blob/main/SG3.ipynb\" target=\"_parent\"><img src=\"https://colab.research.google.com/assets/colab-badge.svg\" alt=\"Open In Colab\"/></a>"
      ]
    },
    {
      "cell_type": "markdown",
      "metadata": {
        "id": "TV_ylWt7YjoY"
      },
      "source": [
        "# StyleGAN3\n",
        "\n",
        "Just starting this...expect more updates soon."
      ]
    },
    {
      "cell_type": "code",
      "metadata": {
        "id": "8bdgviQQO8WJ"
      },
      "source": [
        "!nvidia-smi -L"
      ],
      "execution_count": null,
      "outputs": []
    },
    {
      "cell_type": "code",
      "metadata": {
        "id": "TL1ERDs1PKJy"
      },
      "source": [
        "from google.colab import drive\n",
        "drive.mount('/content/drive')"
      ],
      "execution_count": null,
      "outputs": []
    },
    {
      "cell_type": "code",
      "metadata": {
        "id": "07tNxYinRwAy"
      },
      "source": [
        "# update to python 3.8\n",
        "# someone can probably clean this up for me yeah?\n",
        "!apt update\n",
        "!apt upgrade\n",
        "!apt dist-upgrade\n",
        "!apt install build-essential zlib1g-dev libncurses5-dev libgdbm-dev libnss3-dev libssl-dev libreadline-dev libffi-dev wget\n",
        "!apt install software-properties-common\n",
        "!add-apt-repository ppa:deadsnakes/ppa -y\n",
        "!apt update\n",
        "!apt install python3.8\n",
        "!curl https://bootstrap.pypa.io/get-pip.py -o get-pip.py\n",
        "!python3.8 get-pip.py\n",
        "!python3.8 -m pip install --upgrade pip\n",
        "!python3.8 -m pip install torch==1.9.1+cu111 torchvision==0.10.1+cu111 torchaudio==0.9.1 -f https://download.pytorch.org/whl/torch_stable.html\n",
        "!python3.8 -m pip install click scipy requests requests tqdm ninja matplotlib imageio imgui glfw pyopengl imageio-ffmpeg pyspng"
      ],
      "execution_count": null,
      "outputs": []
    },
    {
      "cell_type": "code",
      "metadata": {
        "id": "0i-kuaNuTeDa"
      },
      "source": [
        ""
      ],
      "execution_count": null,
      "outputs": []
    },
    {
      "cell_type": "code",
      "metadata": {
        "id": "KZ04kX_gPBIz"
      },
      "source": [
        "import os\n",
        "if os.path.isdir(\"/content/drive/MyDrive/colab-sg3\"):\n",
        "    %cd \"/content/drive/MyDrive/colab-sg3\"\n",
        "elif os.path.isdir(\"/content/drive/\"):\n",
        "    #install script\n",
        "    %cd \"/content/drive/MyDrive/\"\n",
        "    !mkdir colab-sg3\n",
        "    %cd colab-sg3\n",
        "    !git clone https://github.com/dvschultz/stylegan3\n",
        "    %cd stylegan3\n",
        "    !mkdir downloads\n",
        "    !mkdir datasets\n",
        "    !mkdir pretrained\n",
        "    !gdown --id 1-5xZkD8ajXw1DdopTkH_rAoCsD72LhKU -O /content/drive/MyDrive/colab-sg2-ada-pytorch/stylegan2-ada-pytorch/pretrained/wikiart.pkl\n",
        "else:\n",
        "    !git clone https://github.com/dvschultz/stylegan3\n",
        "    %cd stylegan3\n",
        "    !mkdir downloads\n",
        "    !mkdir datasets\n",
        "    !mkdir pretrained\n",
        "    %cd pretrained\n",
        "    !gdown --id 1-5xZkD8ajXw1DdopTkH_rAoCsD72LhKU\n",
        "    %cd ../\n",
        "\n",
        "!pip install ninja opensimplex click"
      ],
      "execution_count": null,
      "outputs": []
    },
    {
      "cell_type": "markdown",
      "metadata": {
        "id": "oT42eC_tPx87"
      },
      "source": [
        "## Convert Dataset\n",
        "Pass a folder of images (just .pngs? TK) to create a zip file."
      ]
    },
    {
      "cell_type": "code",
      "metadata": {
        "id": "seDIvHAMP98g"
      },
      "source": [
        "!gdown --id 1XLbPLrOEiMy3aA86shCGPOW4V6fG7qDh -O /content/ladiescrop-1024.zip"
      ],
      "execution_count": null,
      "outputs": []
    },
    {
      "cell_type": "code",
      "metadata": {
        "id": "uTEDwu6LQIZF"
      },
      "source": [
        "!unzip /content/ladiescrop-1024.zip -d /content/tmp"
      ],
      "execution_count": null,
      "outputs": []
    },
    {
      "cell_type": "code",
      "metadata": {
        "id": "Mdk2UgGkQaPu"
      },
      "source": [
        "!gdown --id 1qTR55ev8SPYTOOZGaJEvfROTWcjnLSRz -O /content/ladiescrop-sg2.pkl"
      ],
      "execution_count": null,
      "outputs": []
    },
    {
      "cell_type": "code",
      "metadata": {
        "id": "UO7APWvfPbXS"
      },
      "source": [
        "!python3.8 dataset_tool.py --source=/content/tmp/ladiescrop-1024 --dest=./datasets/ladiescrop-1024.zip"
      ],
      "execution_count": null,
      "outputs": []
    },
    {
      "cell_type": "markdown",
      "metadata": {
        "id": "EkruyuspXigs"
      },
      "source": [
        "## Training\n"
      ]
    },
    {
      "cell_type": "code",
      "metadata": {
        "id": "3sbpJOHnXn6X"
      },
      "source": [
        "!python train.py --outdir=./results --cfg=stylegan3-r --data=./datasets/ladiescrop-1024.zip \\\n",
        "--gpus=1 --batch=4 --gamma=10.0 --mirror=1 --kimg=5000 --snap=4 \\\n",
        "--resume=/content/ladiescrop-sg2.pkl"
      ],
      "execution_count": null,
      "outputs": []
    },
    {
      "cell_type": "code",
      "metadata": {
        "id": "P1_9acWpQ-Sw"
      },
      "source": [
        ""
      ],
      "execution_count": null,
      "outputs": []
    }
  ]
}